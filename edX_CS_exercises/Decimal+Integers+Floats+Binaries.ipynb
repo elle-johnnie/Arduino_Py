{
 "cells": [
  {
   "cell_type": "markdown",
   "metadata": {},
   "source": [
    "Notes from edX lecture on Floats and Fractions"
   ]
  },
  {
   "cell_type": "markdown",
   "metadata": {},
   "source": [
    "**Convert decimal integer to binary representation**\n",
    "\n",
    "Conversion is made by catching the remainder of the integer divided (floor division // ) by 2\n",
    "and dividing the result by 2 to catch the next remainder\n",
    "then continuing capturing the remainder until reaching 1\n",
    "e.g. 10//2=5 %=0, 5//2=2 %=1, 2//2=1 %=0, 1//2=0 %=1---> all modulos accounted for are 0101\n",
    "each of these modulos are captured in order from the end of the string to the beginning so that the binary\n",
    "representation of 10 would be 1010"
   ]
  },
  {
   "cell_type": "code",
   "execution_count": null,
   "metadata": {},
   "outputs": [],
   "source": [
    "num =  int(input('Enter an integer to see the binary representation: '))\n",
    "\n",
    "# find absolute value if the integer is negative\n",
    "if num < 0:\n",
    "    isNeg = True\n",
    "    num = abs(num)\n",
    "else:\n",
    "    isNeg = False\n",
    "# set result to empty string\n",
    "result = ''\n",
    "if num == 0:\n",
    "    result = '0'\n",
    "# recursive division until num gets to 0\n",
    "while num > 0:\n",
    "    # get remainder of num divided by 2 and add that into the result to the front of the string\n",
    "    # this approach allows for writing the output in the reverse order of the division\n",
    "    result = str(num%2) + result\n",
    "    num = num//2\n",
    "if isNeg:\n",
    "    result = '-' + result\n",
    "print (result)"
   ]
  },
  {
   "cell_type": "markdown",
   "metadata": {},
   "source": [
    "**Convert decimal floating point to binary representation**\n",
    "\n",
    "Conversion is made by multiplying the float by 2\n",
    "then continuing capturing the integer until reaching 1\n",
    "e.g. 0.75*2=1.5, 0.5*2=1\n",
    "each of these modulos are captured in order from beginning to end so that the binary\n",
    "representation of 0.75 would be 0.11"
   ]
  },
  {
   "cell_type": "code",
   "execution_count": null,
   "metadata": {},
   "outputs": [],
   "source": [
    "num =  float(input(\"Enter a floating point between 0 and 1 to see it's binary representation: \"))\n",
    "\n",
    "x = 0\n",
    "while ((2**x)*num)%1 != 0:\n",
    "    print('The remainder is ' + str((2**x)*num - int((2**x)*num)))\n",
    "    x += 1\n",
    "    \n",
    "newnum = int(num*(2**x))\n",
    "\n",
    "result = ''\n",
    "\n",
    "if newnum == 0:\n",
    "    result = '0'\n",
    "while newnum > 0:\n",
    "    result = str(newnum%2)+result\n",
    "    newnum = newnum//2\n",
    "    \n",
    "for i in range(x-len(result)):\n",
    "    result = '0' + result\n",
    "    \n",
    "result = result[0:-x] + '.' + result[-x:]\n",
    "print('The binary respresentation of the decimal ' + str(num) + ' is ' + str(result))\n",
    "\n"
   ]
  }
 ],
 "metadata": {
  "kernelspec": {
   "display_name": "Python 3",
   "language": "python",
   "name": "python3"
  },
  "language_info": {
   "codemirror_mode": {
    "name": "ipython",
    "version": 3
   },
   "file_extension": ".py",
   "mimetype": "text/x-python",
   "name": "python",
   "nbconvert_exporter": "python",
   "pygments_lexer": "ipython3",
   "version": "3.6.3"
  }
 },
 "nbformat": 4,
 "nbformat_minor": 2
}
